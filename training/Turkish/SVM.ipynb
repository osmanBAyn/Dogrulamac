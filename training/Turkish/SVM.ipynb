{
 "cells": [
  {
   "cell_type": "code",
   "execution_count": null,
   "metadata": {
    "vscode": {
     "languageId": "plaintext"
    }
   },
   "outputs": [],
   "source": [
    "!pip install datasets\n",
    "!pip install imblearn"
   ]
  },
  {
   "cell_type": "code",
   "execution_count": null,
   "metadata": {
    "vscode": {
     "languageId": "plaintext"
    }
   },
   "outputs": [],
   "source": [
    "from datasets import load_dataset\n",
    "from datasets import Dataset\n",
    "from sklearn.model_selection import train_test_split\n",
    "import pandas as pd\n",
    "\n",
    "dataset_name = \"OsBaran/tryTr5\"  \n",
    "dataset = load_dataset(dataset_name)\n",
    "\n",
    "df = pd.DataFrame(dataset['train'])\n",
    "# None veya NaN değerler\n",
    "print(\"Eksik veri sayısı:\\n\", df.isnull().sum())\n",
    "\n",
    "df = df.dropna(subset=['text', 'label'])\n",
    "\n",
    "print(\"Temizleme sonrası boyut:\", df.shape)\n",
    "\n",
    "print(df['label'].value_counts())\n",
    "\n",
    "balanced_train_data = Dataset.from_pandas(df)\n",
    "dataset_name = \"OsBaran/tryTr4\"  \n",
    "\n",
    "dataset = load_dataset(dataset_name)\n",
    "\n",
    "df = pd.DataFrame(dataset['train'])\n",
    "print(\"Eksik veri sayısı:\\n\", df.isnull().sum())\n",
    "\n",
    "df = df.dropna(subset=['text', 'label'])\n",
    "\n",
    "print(\"Temizleme sonrası boyut:\", df.shape)\n",
    "\n",
    "print(df['label'].value_counts())\n",
    "\n",
    "test_data = Dataset.from_pandas(df)\n",
    "# test_data = load_dataset(\"OsBaran/tryTr5\")[\"train\"]\n",
    "# train_data, test_data = train_test_split(df, test_size=0, stratify=df['label'], random_state=42)\n",
    "\n",
    "# print(\"Eğitim Seti Dağılımı:\\n\", train_data['label'].value_counts(normalize=True))\n",
    "# print(\"Test Seti Dağılımı:\\n\", test_data['label'].value_counts(normalize=True))\n",
    "\n",
    "# from imblearn.over_sampling import RandomOverSampler\n",
    "\n",
    "# ros = RandomOverSampler(random_state=42)\n",
    "# balanced_train_data, balanced_train_labels = ros.fit_resample(\n",
    "#     train_data[['text']], train_data['label']\n",
    "# )\n",
    "\n",
    "# balanced_train_data = pd.DataFrame(balanced_train_data, columns=[\"text\"])\n",
    "# balanced_train_data[\"label\"] = balanced_train_labels\n",
    "\n",
    "# print(\"Dengeli Eğitim Seti Dağılımı:\\n\", balanced_train_data['label'].value_counts())\n",
    "test_data"
   ]
  },
  {
   "cell_type": "code",
   "execution_count": null,
   "metadata": {
    "vscode": {
     "languageId": "plaintext"
    }
   },
   "outputs": [],
   "source": [
    "from sklearn.svm import LinearSVC\n",
    "\n",
    "svm_model = LinearSVC(random_state=42, max_iter=5000)\n",
    "svm_model.fit(X_train, y_train)\n",
    "\n",
    "y_pred_svm = svm_model.predict(X_test)\n",
    "\n",
    "print(\"SVM Classification Report:\")\n",
    "print(classification_report(y_test, y_pred_svm))\n",
    "\n",
    "# Karışıklık Matrisi\n",
    "cm_svm = confusion_matrix(y_test, y_pred_svm)\n",
    "plt.figure(figsize=(8, 6))\n",
    "sns.heatmap(cm_svm, annot=True, fmt=\"d\", cmap=\"Blues\", xticklabels=[\"0 (Yanlış)\", \"1 (Doğru)\"], yticklabels=[\"0 (Yanlış)\", \"1 (Doğru)\"])\n",
    "plt.xlabel(\"Tahmin Edilen\")\n",
    "plt.ylabel(\"Gerçek\")\n",
    "plt.title(\"SVM Konfüzyon Matrisi\")\n",
    "plt.show()\n",
    "\n",
    "kesinlik = precision_score(y_test, y_pred_svm, average='binary')  \n",
    "duyarlilik = recall_score(y_test, y_pred_svm, average='binary')\n",
    "f1_skoru = f1_score(y_test, y_pred_svm, average='binary')\n",
    "dogruluk = accuracy_score(y_test, y_pred_svm)\n",
    "\n",
    "print(\"\\nMetrics:\")\n",
    "print(f\"Kesinlik (Precision): {kesinlik:.2f}\")\n",
    "print(f\"Duyarlılık (Recall): {duyarlilik:.2f}\")\n",
    "print(f\"F1 Skoru: {f1_skoru:.2f}\")\n",
    "print(f\"Doğruluk (Accuracy): {dogruluk:.2f}\")"
   ]
  }
 ],
 "metadata": {
  "language_info": {
   "name": "python"
  }
 },
 "nbformat": 4,
 "nbformat_minor": 2
}
