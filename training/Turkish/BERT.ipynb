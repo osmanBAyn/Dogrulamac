{
 "cells": [
  {
   "cell_type": "code",
   "execution_count": null,
   "metadata": {
    "vscode": {
     "languageId": "plaintext"
    }
   },
   "outputs": [],
   "source": [
    "!pip install datasets\n",
    "!pip install imblearn"
   ]
  },
  {
   "cell_type": "code",
   "execution_count": null,
   "metadata": {
    "vscode": {
     "languageId": "plaintext"
    }
   },
   "outputs": [],
   "source": [
    "from datasets import load_dataset\n",
    "from datasets import Dataset\n",
    "from sklearn.model_selection import train_test_split\n",
    "import pandas as pd\n",
    "\n",
    "\n",
    "dataset_name = \"OsBaran/tryTr5\"  # Dataset adını uygun şekilde değiştir\n",
    "dataset = load_dataset(dataset_name)\n",
    "\n",
    "\n",
    "df = pd.DataFrame(dataset['train'])\n",
    "\n",
    "print(\"Eksik veri sayısı:\\n\", df.isnull().sum())\n",
    "\n",
    "# None/NaN kaldırma\n",
    "df = df.dropna(subset=['text', 'label'])\n",
    "\n",
    "\n",
    "print(\"Temizleme sonrası boyut:\", df.shape)\n",
    "\n",
    "\n",
    "print(df['label'].value_counts())\n",
    "\n",
    "\n",
    "balanced_train_data = Dataset.from_pandas(df)\n",
    "dataset_name = \"OsBaran/tryTr4\"  \n",
    "\n",
    "dataset = load_dataset(dataset_name)\n",
    "\n",
    "#DataFrame\n",
    "df = pd.DataFrame(dataset['train'])\n",
    "\n",
    "print(\"Eksik veri sayısı:\\n\", df.isnull().sum())\n",
    "\n",
    "\n",
    "df = df.dropna(subset=['text', 'label'])\n",
    "\n",
    "\n",
    "print(\"Temizleme sonrası boyut:\", df.shape)\n",
    "\n",
    "\n",
    "print(df['label'].value_counts())\n",
    "\n",
    "\n",
    "test_data = Dataset.from_pandas(df)\n",
    "# test_data = load_dataset(\"OsBaran/tryTr5\")[\"train\"]\n",
    "# train_data, test_data = train_test_split(df, test_size=0, stratify=df['label'], random_state=42)\n",
    "\n",
    "\n",
    "# print(\"Eğitim Seti Dağılımı:\\n\", train_data['label'].value_counts(normalize=True))\n",
    "# print(\"Test Seti Dağılımı:\\n\", test_data['label'].value_counts(normalize=True))\n",
    "\n",
    "\n",
    "# from imblearn.over_sampling import RandomOverSampler\n",
    "\n",
    "# ros = RandomOverSampler(random_state=42)\n",
    "# balanced_train_data, balanced_train_labels = ros.fit_resample(\n",
    "#     train_data[['text']], train_data['label']\n",
    "# )\n",
    "\n",
    "\n",
    "# balanced_train_data = pd.DataFrame(balanced_train_data, columns=[\"text\"])\n",
    "# balanced_train_data[\"label\"] = balanced_train_labels\n",
    "\n",
    "# print(\"Dengeli Eğitim Seti Dağılımı:\\n\", balanced_train_data['label'].value_counts())\n",
    "test_data"
   ]
  },
  {
   "cell_type": "code",
   "execution_count": null,
   "metadata": {
    "vscode": {
     "languageId": "plaintext"
    }
   },
   "outputs": [],
   "source": [
    "from transformers import AutoTokenizer, AutoModelForSequenceClassification\n",
    "\n",
    "model_name = \"dbmdz/bert-base-turkish-cased\"  \n",
    "tokenizer = AutoTokenizer.from_pretrained(model_name)\n",
    "model = AutoModelForSequenceClassification.from_pretrained(model_name, num_labels=2)\n"
   ]
  },
  {
   "cell_type": "code",
   "execution_count": null,
   "metadata": {
    "vscode": {
     "languageId": "plaintext"
    }
   },
   "outputs": [],
   "source": [
    "from datasets import Dataset\n",
    "\n",
    "\n",
    "train_dataset = balanced_train_data\n",
    "test_dataset = test_data\n",
    "\n",
    "# Kontrol\n",
    "print(train_dataset)\n",
    "print(test_dataset)\n"
   ]
  },
  {
   "cell_type": "code",
   "execution_count": null,
   "metadata": {
    "vscode": {
     "languageId": "plaintext"
    }
   },
   "outputs": [],
   "source": [
    "def tokenize_function(examples):\n",
    "    return tokenizer(examples[\"text\"], padding=\"max_length\", truncation=True)\n",
    "\n",
    "tokenized_train = balanced_train_data.map(tokenize_function, batched=True)\n",
    "tokenized_test = test_data.map(tokenize_function, batched=True)\n",
    "\n",
    "tokenized_train = tokenized_train.remove_columns([\"text\"])\n",
    "tokenized_test = tokenized_test.remove_columns([\"text\"])\n",
    "\n",
    "tokenized_train.set_format(\"torch\")\n",
    "tokenized_test.set_format(\"torch\")\n"
   ]
  },
  {
   "cell_type": "code",
   "execution_count": null,
   "metadata": {
    "vscode": {
     "languageId": "plaintext"
    }
   },
   "outputs": [],
   "source": [
    "from transformers import TrainingArguments, Trainer\n",
    "\n",
    "training_args = TrainingArguments(\n",
    "    output_dir=\"./results\",\n",
    "    evaluation_strategy=\"epoch\",\n",
    "    learning_rate=5e-5,\n",
    "    per_device_train_batch_size=32,\n",
    "    per_device_eval_batch_size=64,\n",
    "    num_train_epochs=5,\n",
    "    weight_decay=0.01,\n",
    "    logging_dir=\"./logs\",\n",
    "    logging_steps=10,\n",
    "    report_to=\"none\",\n",
    "    fp16=True  # GPU \n",
    "\n",
    ")\n",
    "\n",
    "trainer = Trainer(\n",
    "    model=model,\n",
    "    args=training_args,\n",
    "    train_dataset=tokenized_train,\n",
    "    eval_dataset=tokenized_test,\n",
    "    tokenizer=tokenizer,\n",
    ")\n",
    "\n",
    "trainer.train()\n"
   ]
  },
  {
   "cell_type": "code",
   "execution_count": null,
   "metadata": {
    "vscode": {
     "languageId": "plaintext"
    }
   },
   "outputs": [],
   "source": []
  }
 ],
 "metadata": {
  "language_info": {
   "name": "python"
  }
 },
 "nbformat": 4,
 "nbformat_minor": 2
}
