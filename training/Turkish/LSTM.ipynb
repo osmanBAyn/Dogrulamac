{
 "cells": [
  {
   "cell_type": "code",
   "execution_count": null,
   "metadata": {
    "vscode": {
     "languageId": "plaintext"
    }
   },
   "outputs": [],
   "source": [
    "!pip install datasets\n",
    "!pip install imblearn"
   ]
  },
  {
   "cell_type": "code",
   "execution_count": null,
   "metadata": {
    "vscode": {
     "languageId": "plaintext"
    }
   },
   "outputs": [],
   "source": [
    "from datasets import load_dataset\n",
    "from datasets import Dataset\n",
    "from sklearn.model_selection import train_test_split\n",
    "import pandas as pd\n",
    "\n",
    "dataset_name = \"OsBaran/tryTr5\"  \n",
    "dataset = load_dataset(dataset_name)\n",
    "\n",
    "df = pd.DataFrame(dataset['train'])\n",
    "# None veya NaN değerler\n",
    "print(\"Eksik veri sayısı:\\n\", df.isnull().sum())\n",
    "\n",
    "df = df.dropna(subset=['text', 'label'])\n",
    "\n",
    "print(\"Temizleme sonrası boyut:\", df.shape)\n",
    "\n",
    "print(df['label'].value_counts())\n",
    "\n",
    "balanced_train_data = Dataset.from_pandas(df)\n",
    "dataset_name = \"OsBaran/tryTr4\"  \n",
    "\n",
    "dataset = load_dataset(dataset_name)\n",
    "\n",
    "df = pd.DataFrame(dataset['train'])\n",
    "print(\"Eksik veri sayısı:\\n\", df.isnull().sum())\n",
    "\n",
    "df = df.dropna(subset=['text', 'label'])\n",
    "\n",
    "print(\"Temizleme sonrası boyut:\", df.shape)\n",
    "\n",
    "print(df['label'].value_counts())\n",
    "\n",
    "test_data = Dataset.from_pandas(df)\n",
    "# test_data = load_dataset(\"OsBaran/tryTr5\")[\"train\"]\n",
    "# train_data, test_data = train_test_split(df, test_size=0, stratify=df['label'], random_state=42)\n",
    "\n",
    "# print(\"Eğitim Seti Dağılımı:\\n\", train_data['label'].value_counts(normalize=True))\n",
    "# print(\"Test Seti Dağılımı:\\n\", test_data['label'].value_counts(normalize=True))\n",
    "\n",
    "# from imblearn.over_sampling import RandomOverSampler\n",
    "\n",
    "# ros = RandomOverSampler(random_state=42)\n",
    "# balanced_train_data, balanced_train_labels = ros.fit_resample(\n",
    "#     train_data[['text']], train_data['label']\n",
    "# )\n",
    "\n",
    "# balanced_train_data = pd.DataFrame(balanced_train_data, columns=[\"text\"])\n",
    "# balanced_train_data[\"label\"] = balanced_train_labels\n",
    "\n",
    "# print(\"Dengeli Eğitim Seti Dağılımı:\\n\", balanced_train_data['label'].value_counts())\n",
    "test_data"
   ]
  },
  {
   "cell_type": "code",
   "execution_count": null,
   "metadata": {
    "vscode": {
     "languageId": "plaintext"
    }
   },
   "outputs": [],
   "source": [
    "import numpy as np\n",
    "from tensorflow.keras.models import Sequential\n",
    "from tensorflow.keras.layers import Embedding, LSTM, Dense, Dropout\n",
    "from tensorflow.keras.preprocessing.text import Tokenizer\n",
    "from tensorflow.keras.preprocessing.sequence import pad_sequences\n",
    "from sklearn.model_selection import train_test_split\n",
    "from sklearn.metrics import classification_report, confusion_matrix\n",
    "import seaborn as sns\n",
    "import matplotlib.pyplot as plt\n",
    "\n",
    "tokenizer = Tokenizer(num_words=10000, oov_token=\"<OOV>\")\n",
    "tokenizer.fit_on_texts(balanced_train_data[\"text\"])\n",
    "\n",
    "X_train_seq = tokenizer.texts_to_sequences(balanced_train_data[\"text\"])\n",
    "X_test_seq = tokenizer.texts_to_sequences(test_data[\"text\"])\n",
    "\n",
    "max_length = 2000  # Maksimum sekans uzunluğu\n",
    "X_train_padded = pad_sequences(X_train_seq, maxlen=max_length, padding=\"post\")\n",
    "X_test_padded = pad_sequences(X_test_seq, maxlen=max_length, padding=\"post\")\n",
    "label_encoder = LabelEncoder()\n",
    "y_train = label_encoder.fit_transform(balanced_train_data[\"label\"])\n",
    "y_test = label_encoder.transform(test_data[\"label\"])\n",
    "\n",
    "model = Sequential([\n",
    "    Embedding(input_dim=10000, output_dim=128, input_length=max_length), \n",
    "    LSTM(128, return_sequences=False),  # LSTM katmanı\n",
    "    Dropout(0.3),  \n",
    "    Dense(64, activation=\"relu\"),  # Ara katman\n",
    "    Dropout(0.3),\n",
    "    Dense(1, activation=\"sigmoid\")  # Çıkış katman\n",
    "])\n",
    "\n",
    "model.compile(loss=\"binary_crossentropy\", optimizer=\"adam\", metrics=[\"accuracy\"])\n",
    "\n",
    "# eğitme\n",
    "model.fit(X_train, np.array(y_train), epochs=5, batch_size=32, validation_split=0.2)\n",
    "\n",
    "y_pred_prob = model.predict(X_test)\n",
    "y_pred = (y_pred_prob > 0.5).astype(\"int32\")\n",
    "\n",
    "\n",
    "print(\"Sınıflandırma Raporu:\")\n",
    "print(classification_report(y_test, y_pred))\n",
    "\n",
    "# Karışıklık matrisi\n",
    "cm = confusion_matrix(y_test, y_pred)\n",
    "plt.figure(figsize=(6, 4))\n",
    "sns.heatmap(cm, annot=True, fmt=\"d\", cmap=\"Blues\", xticklabels=[\"Olumsuz\", \"Olumlu\"], yticklabels=[\"Olumsuz\", \"Olumlu\"])\n",
    "plt.xlabel(\"Tahmin Edilen\")\n",
    "plt.ylabel(\"Gerçek\")\n",
    "plt.title(\"Karışıklık Matrisi\")\n",
    "plt.show()\n"
   ]
  }
 ],
 "metadata": {
  "language_info": {
   "name": "python"
  }
 },
 "nbformat": 4,
 "nbformat_minor": 2
}
